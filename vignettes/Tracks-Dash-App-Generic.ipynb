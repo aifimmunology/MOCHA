{
 "cells": [
  {
   "cell_type": "markdown",
   "id": "9a35b856-f6f3-4459-bd7c-fc9bc167e28a",
   "metadata": {},
   "source": [
    "# MOCHA scATACseq tracks visualization\n",
    "1. [Inputs](#Inputs)\n",
    "2. [Imports](#Imports)\n",
    "3. [JupyterDash Setup](#JupyterDash-Set-up)\n",
    "4. [Data Import](#Data-Import)\n",
    "5. [App](#App)"
   ]
  },
  {
   "cell_type": "markdown",
   "id": "5810dd98-c016-4341-ac4c-8e5a710bf501",
   "metadata": {},
   "source": [
    "## Inputs\n",
    "\n",
    "Provide the directory containing all of the exported files' subdirectories."
   ]
  },
  {
   "cell_type": "code",
   "execution_count": 9,
   "id": "1cc6eb07-7ecd-43f2-a2ce-ff1b1f16a536",
   "metadata": {},
   "outputs": [],
   "source": [
    "data_dir = \"/home/jupyter/data\""
   ]
  },
  {
   "cell_type": "markdown",
   "id": "b547cd17-545f-418e-92f6-16541674f26a",
   "metadata": {},
   "source": [
    "__Ensure all provided subdirectories are empty other than the files you wish to visualize.__\n",
    "\n",
    "Set the directory under which coverage .bw files are located.\n",
    "All coverage files must be named in the format `CELLTYPE__SAMPLEID.bw` (`.bigwig` will not be recognized)."
   ]
  },
  {
   "cell_type": "code",
   "execution_count": 3,
   "id": "25ebd140-1f52-404a-9e14-eef129e1c44c",
   "metadata": {},
   "outputs": [],
   "source": [
    "bw_dir = \"./data/sample_specific_coverage/\""
   ]
  },
  {
   "cell_type": "markdown",
   "id": "47746997-4ac5-4aa3-aa19-4528e0158d53",
   "metadata": {},
   "source": [
    "Set the directory under which tile .bigBed files are located."
   ]
  },
  {
   "cell_type": "code",
   "execution_count": 4,
   "id": "d3e3ec6d-96ad-456c-abe9-b6ba4a99409e",
   "metadata": {},
   "outputs": [],
   "source": [
    "tiles_dir = \"./data/tiles_cellpop/\""
   ]
  },
  {
   "cell_type": "code",
   "execution_count": 5,
   "id": "9e17ddc5-a072-4afd-b45a-b9849391f27f",
   "metadata": {},
   "outputs": [],
   "source": [
    "differential_tiles_dir = \"./data/tiles_differential/\""
   ]
  },
  {
   "cell_type": "markdown",
   "id": "4b30cb14-37fe-4057-88ce-2d6a58235876",
   "metadata": {},
   "source": [
    "Set the directory under which motif bigBed files are located, and the name of the motifset.\n",
    "\n",
    "We assume the motifsets are named in the pattern `CELLTYPE__MOTIFSETNAME.bigBed`. \n",
    "\n",
    "CELLTYPE should be \"ALL\" if the .bigBed should display for all cell types."
   ]
  },
  {
   "cell_type": "code",
   "execution_count": 6,
   "id": "091bc5c6-f21c-425c-8332-dd40c331bb3f",
   "metadata": {},
   "outputs": [],
   "source": [
    "motifs_dir = \"./data/motifs/\"\n",
    "motifset = \"CISBP\" # \"Vierstra\" etc"
   ]
  },
  {
   "cell_type": "markdown",
   "id": "d5ba02df-3004-4e3e-b57c-0bc2a74b2347",
   "metadata": {},
   "source": [
    "Set an order for your cell populations - this dictates the order tracks will be displayed in the app."
   ]
  },
  {
   "cell_type": "code",
   "execution_count": null,
   "id": "d2369371-9ab3-42f7-8e94-1bd8da7d6c0f",
   "metadata": {},
   "outputs": [],
   "source": [
    "ct_order = [\n",
    "    \"t_cd4_naive\",\n",
    "    \"t_cd4_cm\",\n",
    "    \"t_cd4_em\",\n",
    "    \"t_cd4_treg_naive\",\n",
    "    \"t_cd4_treg_memory\",\n",
    "    \"t_cd8_naive\",\n",
    "    \"t_cd8_cm\",\n",
    "    \"t_cd8_em\",\n",
    "    \"t_cd8_temra\",\n",
    "    \"t_cd8_mait\",\n",
    "]"
   ]
  },
  {
   "cell_type": "markdown",
   "id": "4f29803c-68d5-47e8-93a0-9b9df0870538",
   "metadata": {},
   "source": [
    "## Imports"
   ]
  },
  {
   "cell_type": "code",
   "execution_count": 2,
   "id": "933bbd88-0d10-42b1-9989-90bc6a5801f2",
   "metadata": {},
   "outputs": [],
   "source": [
    "# these libraries are all utilized to create the dash app\n",
    "import dash\n",
    "from dash.dependencies import Input, Output\n",
    "import dash_bio as dashbio\n",
    "from dash import html, dcc\n",
    "from flask import send_from_directory"
   ]
  },
  {
   "cell_type": "code",
   "execution_count": 3,
   "id": "dbf317c6-1f35-4ed7-933f-8aa5bbab4c6c",
   "metadata": {},
   "outputs": [],
   "source": [
    "import pandas as pd\n",
    "import re\n",
    "import os\n",
    "import glob\n",
    "import time"
   ]
  },
  {
   "cell_type": "code",
   "execution_count": 4,
   "id": "9ae7df97-137a-4775-9e8c-d5778748b799",
   "metadata": {},
   "outputs": [
    {
     "name": "stdout",
     "output_type": "stream",
     "text": [
      "Python 3.7.12\n"
     ]
    }
   ],
   "source": [
    "! python --version"
   ]
  },
  {
   "cell_type": "code",
   "execution_count": 5,
   "id": "e3c25203-54dd-4fc8-bd8f-136af76e19a4",
   "metadata": {},
   "outputs": [
    {
     "data": {
      "text/plain": [
       "'2.10.2'"
      ]
     },
     "execution_count": 5,
     "metadata": {},
     "output_type": "execute_result"
    }
   ],
   "source": [
    "dash.__version__ # 2.10.2 or newer"
   ]
  },
  {
   "cell_type": "code",
   "execution_count": 6,
   "id": "d67ad3b4-0aaa-465e-a122-379b8f5bfc1b",
   "metadata": {},
   "outputs": [
    {
     "data": {
      "text/plain": [
       "'0.9.0'"
      ]
     },
     "execution_count": 6,
     "metadata": {},
     "output_type": "execute_result"
    }
   ],
   "source": [
    "dashbio.__version__ # 0.9.0 works. 1.0.2 may not work on Python 3.7"
   ]
  },
  {
   "cell_type": "markdown",
   "id": "bc0e7d94-a7e5-4c1b-b87f-53a00c783daa",
   "metadata": {},
   "source": [
    "If these are not installed, set below cells to \"Code\" and run:"
   ]
  },
  {
   "cell_type": "markdown",
   "id": "55b0bb23-ea87-4a7a-be5a-5f07f6d60f6d",
   "metadata": {},
   "source": [
    "! pip install dash"
   ]
  },
  {
   "cell_type": "markdown",
   "id": "4aba08fd-9887-4fc4-aa94-079378729b25",
   "metadata": {},
   "source": [
    "! pip install dash-bio==0.9.0"
   ]
  },
  {
   "cell_type": "markdown",
   "id": "b275d526-38a8-4b62-a1fa-89fa7581290d",
   "metadata": {},
   "source": [
    "! pip install jupyterlab \"ipywidgets>=7.5”\n",
    "! jupyter labextension install jupyterlab-plotly@4.14.3"
   ]
  },
  {
   "cell_type": "markdown",
   "id": "69a32e3e-e440-42dc-bd74-5c92d62462a8",
   "metadata": {
    "tags": []
   },
   "source": [
    "## JupyterDash Set-up\n",
    "The following 2 code-blocks are needed if you are trying to develop a dash-app in a HISE IDE.\n",
    "\n",
    "NOTE: Code in this block ultimately shouldn't be included when deploying your dash app to HISE's Collab Space"
   ]
  },
  {
   "cell_type": "code",
   "execution_count": 7,
   "id": "e6ae1295-953b-4446-89ed-306f4b066490",
   "metadata": {},
   "outputs": [],
   "source": [
    "from jupyter_dash.comms import _send_jupyter_config_comm_request  # jupyter-only\n",
    "\n",
    "_send_jupyter_config_comm_request()  # jupyter-only"
   ]
  },
  {
   "cell_type": "code",
   "execution_count": 8,
   "id": "05572abb-0754-477f-8deb-4b28115f6943",
   "metadata": {},
   "outputs": [],
   "source": [
    "time.sleep(10)"
   ]
  },
  {
   "cell_type": "code",
   "execution_count": 10,
   "id": "3c892a95-dfb0-442c-ade3-fd0a72fcdf9b",
   "metadata": {},
   "outputs": [],
   "source": [
    "from jupyter_dash import JupyterDash  # jupyter-only\n",
    "\n",
    "JupyterDash.infer_jupyter_proxy_config()  # jupyter-only"
   ]
  },
  {
   "cell_type": "markdown",
   "id": "4428da59-6454-4867-8b48-332a99d7fc12",
   "metadata": {
    "tags": []
   },
   "source": [
    "## Data Import"
   ]
  },
  {
   "cell_type": "markdown",
   "id": "1b6dbd63-7f28-4c93-abf5-8ed8d9cceaa1",
   "metadata": {
    "tags": []
   },
   "source": [
    "### BigWig Files"
   ]
  },
  {
   "cell_type": "code",
   "execution_count": 17,
   "id": "71dc1bb2-ec73-4dae-a109-60c853b51928",
   "metadata": {},
   "outputs": [],
   "source": [
    "bw_fp = glob.glob(os.path.join(bw_dir, \"*.bw\"))\n",
    "bw_fp = [os.path.basename(x) for x in bw_fp]"
   ]
  },
  {
   "cell_type": "markdown",
   "id": "6b8993a5-39ed-4de2-a0db-a3bc0e0d6afc",
   "metadata": {},
   "source": [
    "### BED Files\n",
    "For including tiles tracks - skip if not using tiles or celltype-peak motifs."
   ]
  },
  {
   "cell_type": "code",
   "execution_count": null,
   "id": "0f29b495-8e41-4691-b210-7abf6ccf4609",
   "metadata": {},
   "outputs": [],
   "source": [
    "tiles_fp = glob.glob(os.path.join(tiles_dir, \"*.bigBed\"))\n",
    "tiles_fp = [os.path.basename(x) for x in tiles_fp]\n",
    "\n",
    "difftiles_fp = glob.glob(os.path.join(differential_tiles_dir, \"*.bigBed\"))\n",
    "difftiles_fp = [os.path.basename(x) for x in difftiles_fp]"
   ]
  },
  {
   "cell_type": "code",
   "execution_count": null,
   "id": "673d4c6b-4633-4a46-8779-81422fc021ee",
   "metadata": {},
   "outputs": [],
   "source": [
    "motifs_fp = glob.glob(os.path.join(motifs_dir, f\"*__{motifset}.bigBed\"))\n",
    "motifs_fp = [os.path.basename(x) for x in motifs_fp]\n",
    "motifs_fp"
   ]
  },
  {
   "cell_type": "markdown",
   "id": "cee1f134-a980-4652-9612-dc99aa465973",
   "metadata": {},
   "source": [
    "### Format Track Metadata"
   ]
  },
  {
   "cell_type": "code",
   "execution_count": 13,
   "id": "f1cf1b89-89bf-4ec1-9fd0-f98bfd6aa4f8",
   "metadata": {},
   "outputs": [],
   "source": [
    "ct_order = ct_order + [\"ALL\"]\n",
    "track_class_order = [\"coverage\", \"sample_tiles\", \"differential_tiles\", \"tiles\", \"motifs\"]"
   ]
  },
  {
   "cell_type": "code",
   "execution_count": 26,
   "id": "7e53bc14-e14f-4544-9634-056d973b4efe",
   "metadata": {},
   "outputs": [],
   "source": [
    "subdirectory = \"igv/\"\n",
    "fp = bw_fp\n",
    "track_class = \"coverage\"\n",
    "metadf = pd.DataFrame(\n",
    "    {\n",
    "        \"filename\": fp,\n",
    "        \"path\": [subdirectory + x for x in bw_fp],\n",
    "        \"celltype\": pd.Categorical(\n",
    "            [re.match(\"(.*)__.*\", x).group(1) for x in fp], categories=ct_order\n",
    "        ),\n",
    "        \"sample_id\": [re.match(\".*__(.*)\", x).group(1) for x in bw_fp],\n",
    "        \"track_class\": \"coverage\",\n",
    "    }\n",
    ")\n",
    "metadf[\"label\"] = metadf.apply(\n",
    "    lambda row: row[\"sample_id\"] + \": \" + row[\"celltype\"], axis=1\n",
    ")\n",
    "metadf.sort_values([\"celltype\"], inplace=True)"
   ]
  },
  {
   "cell_type": "code",
   "execution_count": 32,
   "id": "b1b94322-972b-48b3-89e7-201595ab9407",
   "metadata": {},
   "outputs": [
    {
     "data": {
      "text/html": [
       "<div>\n",
       "<style scoped>\n",
       "    .dataframe tbody tr th:only-of-type {\n",
       "        vertical-align: middle;\n",
       "    }\n",
       "\n",
       "    .dataframe tbody tr th {\n",
       "        vertical-align: top;\n",
       "    }\n",
       "\n",
       "    .dataframe thead th {\n",
       "        text-align: right;\n",
       "    }\n",
       "</style>\n",
       "<table border=\"1\" class=\"dataframe\">\n",
       "  <thead>\n",
       "    <tr style=\"text-align: right;\">\n",
       "      <th></th>\n",
       "      <th>filename</th>\n",
       "      <th>path</th>\n",
       "      <th>celltype</th>\n",
       "      <th>sample_id</th>\n",
       "      <th>treat_time</th>\n",
       "      <th>treatment</th>\n",
       "      <th>timepoint</th>\n",
       "      <th>motifset</th>\n",
       "      <th>track_class</th>\n",
       "      <th>label</th>\n",
       "    </tr>\n",
       "  </thead>\n",
       "  <tbody>\n",
       "    <tr>\n",
       "      <th>7</th>\n",
       "      <td>t_cd4_naive__CISBP__ArchRMotifset.bigBed</td>\n",
       "      <td>igv/motifs/t_cd4_naive__CISBP__ArchRMotifset.b...</td>\n",
       "      <td>t_cd4_naive</td>\n",
       "      <td>None</td>\n",
       "      <td>None</td>\n",
       "      <td>None</td>\n",
       "      <td>None</td>\n",
       "      <td>CISBP</td>\n",
       "      <td>motifs</td>\n",
       "      <td>CISBP: t_cd4_naive</td>\n",
       "    </tr>\n",
       "    <tr>\n",
       "      <th>0</th>\n",
       "      <td>t_cd4_cm__CISBP__ArchRMotifset.bigBed</td>\n",
       "      <td>igv/motifs/t_cd4_cm__CISBP__ArchRMotifset.bigBed</td>\n",
       "      <td>t_cd4_cm</td>\n",
       "      <td>None</td>\n",
       "      <td>None</td>\n",
       "      <td>None</td>\n",
       "      <td>None</td>\n",
       "      <td>CISBP</td>\n",
       "      <td>motifs</td>\n",
       "      <td>CISBP: t_cd4_cm</td>\n",
       "    </tr>\n",
       "    <tr>\n",
       "      <th>6</th>\n",
       "      <td>t_cd4_em__CISBP__ArchRMotifset.bigBed</td>\n",
       "      <td>igv/motifs/t_cd4_em__CISBP__ArchRMotifset.bigBed</td>\n",
       "      <td>t_cd4_em</td>\n",
       "      <td>None</td>\n",
       "      <td>None</td>\n",
       "      <td>None</td>\n",
       "      <td>None</td>\n",
       "      <td>CISBP</td>\n",
       "      <td>motifs</td>\n",
       "      <td>CISBP: t_cd4_em</td>\n",
       "    </tr>\n",
       "    <tr>\n",
       "      <th>2</th>\n",
       "      <td>t_cd4_treg_naive__CISBP__ArchRMotifset.bigBed</td>\n",
       "      <td>igv/motifs/t_cd4_treg_naive__CISBP__ArchRMotif...</td>\n",
       "      <td>t_cd4_treg_naive</td>\n",
       "      <td>None</td>\n",
       "      <td>None</td>\n",
       "      <td>None</td>\n",
       "      <td>None</td>\n",
       "      <td>CISBP</td>\n",
       "      <td>motifs</td>\n",
       "      <td>CISBP: t_cd4_treg_naive</td>\n",
       "    </tr>\n",
       "    <tr>\n",
       "      <th>9</th>\n",
       "      <td>t_cd4_treg_memory__CISBP__ArchRMotifset.bigBed</td>\n",
       "      <td>igv/motifs/t_cd4_treg_memory__CISBP__ArchRMoti...</td>\n",
       "      <td>t_cd4_treg_memory</td>\n",
       "      <td>None</td>\n",
       "      <td>None</td>\n",
       "      <td>None</td>\n",
       "      <td>None</td>\n",
       "      <td>CISBP</td>\n",
       "      <td>motifs</td>\n",
       "      <td>CISBP: t_cd4_treg_memory</td>\n",
       "    </tr>\n",
       "    <tr>\n",
       "      <th>8</th>\n",
       "      <td>t_cd8_naive__CISBP__ArchRMotifset.bigBed</td>\n",
       "      <td>igv/motifs/t_cd8_naive__CISBP__ArchRMotifset.b...</td>\n",
       "      <td>t_cd8_naive</td>\n",
       "      <td>None</td>\n",
       "      <td>None</td>\n",
       "      <td>None</td>\n",
       "      <td>None</td>\n",
       "      <td>CISBP</td>\n",
       "      <td>motifs</td>\n",
       "      <td>CISBP: t_cd8_naive</td>\n",
       "    </tr>\n",
       "    <tr>\n",
       "      <th>1</th>\n",
       "      <td>t_cd8_cm__CISBP__ArchRMotifset.bigBed</td>\n",
       "      <td>igv/motifs/t_cd8_cm__CISBP__ArchRMotifset.bigBed</td>\n",
       "      <td>t_cd8_cm</td>\n",
       "      <td>None</td>\n",
       "      <td>None</td>\n",
       "      <td>None</td>\n",
       "      <td>None</td>\n",
       "      <td>CISBP</td>\n",
       "      <td>motifs</td>\n",
       "      <td>CISBP: t_cd8_cm</td>\n",
       "    </tr>\n",
       "    <tr>\n",
       "      <th>4</th>\n",
       "      <td>t_cd8_em__CISBP__ArchRMotifset.bigBed</td>\n",
       "      <td>igv/motifs/t_cd8_em__CISBP__ArchRMotifset.bigBed</td>\n",
       "      <td>t_cd8_em</td>\n",
       "      <td>None</td>\n",
       "      <td>None</td>\n",
       "      <td>None</td>\n",
       "      <td>None</td>\n",
       "      <td>CISBP</td>\n",
       "      <td>motifs</td>\n",
       "      <td>CISBP: t_cd8_em</td>\n",
       "    </tr>\n",
       "    <tr>\n",
       "      <th>5</th>\n",
       "      <td>t_cd8_temra__CISBP__ArchRMotifset.bigBed</td>\n",
       "      <td>igv/motifs/t_cd8_temra__CISBP__ArchRMotifset.b...</td>\n",
       "      <td>t_cd8_temra</td>\n",
       "      <td>None</td>\n",
       "      <td>None</td>\n",
       "      <td>None</td>\n",
       "      <td>None</td>\n",
       "      <td>CISBP</td>\n",
       "      <td>motifs</td>\n",
       "      <td>CISBP: t_cd8_temra</td>\n",
       "    </tr>\n",
       "    <tr>\n",
       "      <th>3</th>\n",
       "      <td>t_cd8_mait__CISBP__ArchRMotifset.bigBed</td>\n",
       "      <td>igv/motifs/t_cd8_mait__CISBP__ArchRMotifset.bi...</td>\n",
       "      <td>t_cd8_mait</td>\n",
       "      <td>None</td>\n",
       "      <td>None</td>\n",
       "      <td>None</td>\n",
       "      <td>None</td>\n",
       "      <td>CISBP</td>\n",
       "      <td>motifs</td>\n",
       "      <td>CISBP: t_cd8_mait</td>\n",
       "    </tr>\n",
       "  </tbody>\n",
       "</table>\n",
       "</div>"
      ],
      "text/plain": [
       "                                         filename  \\\n",
       "7        t_cd4_naive__CISBP__ArchRMotifset.bigBed   \n",
       "0           t_cd4_cm__CISBP__ArchRMotifset.bigBed   \n",
       "6           t_cd4_em__CISBP__ArchRMotifset.bigBed   \n",
       "2   t_cd4_treg_naive__CISBP__ArchRMotifset.bigBed   \n",
       "9  t_cd4_treg_memory__CISBP__ArchRMotifset.bigBed   \n",
       "8        t_cd8_naive__CISBP__ArchRMotifset.bigBed   \n",
       "1           t_cd8_cm__CISBP__ArchRMotifset.bigBed   \n",
       "4           t_cd8_em__CISBP__ArchRMotifset.bigBed   \n",
       "5        t_cd8_temra__CISBP__ArchRMotifset.bigBed   \n",
       "3         t_cd8_mait__CISBP__ArchRMotifset.bigBed   \n",
       "\n",
       "                                                path           celltype  \\\n",
       "7  igv/motifs/t_cd4_naive__CISBP__ArchRMotifset.b...        t_cd4_naive   \n",
       "0   igv/motifs/t_cd4_cm__CISBP__ArchRMotifset.bigBed           t_cd4_cm   \n",
       "6   igv/motifs/t_cd4_em__CISBP__ArchRMotifset.bigBed           t_cd4_em   \n",
       "2  igv/motifs/t_cd4_treg_naive__CISBP__ArchRMotif...   t_cd4_treg_naive   \n",
       "9  igv/motifs/t_cd4_treg_memory__CISBP__ArchRMoti...  t_cd4_treg_memory   \n",
       "8  igv/motifs/t_cd8_naive__CISBP__ArchRMotifset.b...        t_cd8_naive   \n",
       "1   igv/motifs/t_cd8_cm__CISBP__ArchRMotifset.bigBed           t_cd8_cm   \n",
       "4   igv/motifs/t_cd8_em__CISBP__ArchRMotifset.bigBed           t_cd8_em   \n",
       "5  igv/motifs/t_cd8_temra__CISBP__ArchRMotifset.b...        t_cd8_temra   \n",
       "3  igv/motifs/t_cd8_mait__CISBP__ArchRMotifset.bi...         t_cd8_mait   \n",
       "\n",
       "  sample_id treat_time treatment timepoint motifset track_class  \\\n",
       "7      None       None      None      None    CISBP      motifs   \n",
       "0      None       None      None      None    CISBP      motifs   \n",
       "6      None       None      None      None    CISBP      motifs   \n",
       "2      None       None      None      None    CISBP      motifs   \n",
       "9      None       None      None      None    CISBP      motifs   \n",
       "8      None       None      None      None    CISBP      motifs   \n",
       "1      None       None      None      None    CISBP      motifs   \n",
       "4      None       None      None      None    CISBP      motifs   \n",
       "5      None       None      None      None    CISBP      motifs   \n",
       "3      None       None      None      None    CISBP      motifs   \n",
       "\n",
       "                      label  \n",
       "7        CISBP: t_cd4_naive  \n",
       "0           CISBP: t_cd4_cm  \n",
       "6           CISBP: t_cd4_em  \n",
       "2   CISBP: t_cd4_treg_naive  \n",
       "9  CISBP: t_cd4_treg_memory  \n",
       "8        CISBP: t_cd8_naive  \n",
       "1           CISBP: t_cd8_cm  \n",
       "4           CISBP: t_cd8_em  \n",
       "5        CISBP: t_cd8_temra  \n",
       "3         CISBP: t_cd8_mait  "
      ]
     },
     "execution_count": 32,
     "metadata": {},
     "output_type": "execute_result"
    }
   ],
   "source": [
    "motifs_df = pd.DataFrame(\n",
    "    {\n",
    "        \"filename\": motifs_fp,\n",
    "        \"path\": [\"igv/motifs/\" + x for x in motifs_fp],\n",
    "        \"celltype\": pd.Categorical(\n",
    "            [re.match(\"(.*)__.*\", x).group(1) for x in motifs_fp],\n",
    "            categories=ct_order,\n",
    "        ),\n",
    "        \"motifset\": motifset,\n",
    "        \"track_class\": \"motifs\",\n",
    "    }\n",
    ")\n",
    "motifs_df[\"label\"] = motifs_df.apply(\n",
    "    lambda row: row[\"motifset\"] + \": \" + row[\"celltype\"], axis=1\n",
    ")\n",
    "motifs_df.sort_values([\"celltype\"], inplace=True)"
   ]
  },
  {
   "cell_type": "code",
   "execution_count": null,
   "id": "8a6c7bdf-299d-4072-a2b9-5fd12411890c",
   "metadata": {
    "tags": []
   },
   "outputs": [],
   "source": [
    "subdirectory <- \"igv/tiles_samplespecific/\"\n",
    "fp = tiles_fp\n",
    "track_class = \"tiles\"\n",
    "tiles_df = pd.DataFrame(\n",
    "    {\n",
    "        \"filename\": tiles_fp,\n",
    "        \"path\": [subdirectory + x for x in fp],\n",
    "        \"celltype\": None,\n",
    "        \"sample_id\": tiles_fp,\n",
    "        \"treat_time\": None,\n",
    "        \"treatment\": None,\n",
    "        \"timepoint\": None,\n",
    "        \"track_class\": track_class,\n",
    "    }\n",
    ")\n",
    "tiles_df[\"label\"] = tiles_df.apply(\n",
    "    lambda row: \"Open tiles: \" + row[\"celltype\"], axis=1\n",
    ")\n",
    "tiles_df.sort_values([\"celltype\"], inplace=True)\n",
    "tiles_df"
   ]
  },
  {
   "cell_type": "code",
   "execution_count": null,
   "id": "994133e8-d682-4b0a-afd5-12ef7532e1a8",
   "metadata": {},
   "outputs": [],
   "source": [
    "subdirectory = \"igv/tiles_differential/\"\n",
    "fp = difftiles_fp\n",
    "track_class = \"differential_tiles\"\n",
    "differentials_df = pd.DataFrame(\n",
    "    {\n",
    "        \"filename\": fp,\n",
    "        \"path\": [subdirectory + x for x in fp],\n",
    "        \"celltype\": None,\n",
    "        \"sample_id\": None,\n",
    "        \"treat_time\": None,\n",
    "        \"treatment\": None,\n",
    "        \"timepoint\": None,\n",
    "        \"track_class\": track_class,\n",
    "    }\n",
    ")\n",
    "\n",
    "differentials_df[\"label\"] = differentials_df.apply(\n",
    "    lambda row: \"Difftiles: \" + row[\"filename\"] + \": \", axis=1\n",
    ")"
   ]
  },
  {
   "cell_type": "markdown",
   "id": "c10eb124-05a8-46d1-9c9a-7d3c8566f0cf",
   "metadata": {},
   "source": [
    "## App"
   ]
  },
  {
   "cell_type": "code",
   "execution_count": 33,
   "id": "05f1170b-5aba-429d-b25f-ac11cf90800c",
   "metadata": {},
   "outputs": [],
   "source": [
    "app = JupyterDash(\n",
    "    __name__,\n",
    "    external_stylesheets=[\n",
    "        \"https://storage.googleapis.com/aifi-static-assets/hise-style.css\"\n",
    "    ],\n",
    ")\n",
    "server = app.server\n",
    "app.config.suppress_callback_exceptions = True\n",
    "\n",
    "colors = {\n",
    "    \"--bs-blue\": \"#0d6efd\",\n",
    "    \"--bs-indigo\": \"#6610f2\",\n",
    "    \"--bs-purple\": \"#6f42c1\",\n",
    "    \"--bs-pink\": \"#d63384\",\n",
    "    \"--bs-red\": \"#dc3545\",\n",
    "    \"--bs-orange\": \"#fd7e14\",\n",
    "    \"--bs-yellow\": \"#ffc107\",\n",
    "    \"--bs-green\": \"#198754\",\n",
    "    \"--bs-teal\": \"#20c997\",\n",
    "    \"--bs-cyan\": \"#0dcaf0\",\n",
    "    \"--bs-white\": \"#FFFFFF\",\n",
    "    \"--bs-gray\": \"#6c757d\",\n",
    "    \"--bs-gray-dark\": \"#343a40\",\n",
    "    \"--bs-gray-100\": \"#f8f9fa\",\n",
    "    \"--bs-gray-200\": \"#e9ecef\",\n",
    "    \"--bs-gray-300\": \"#dee2e6\",\n",
    "    \"--bs-gray-400\": \"#ced4da\",\n",
    "    \"--bs-gray-500\": \"#adb5bd\",\n",
    "    \"--bs-gray-600\": \"#6c757d\",\n",
    "    \"--bs-gray-700\": \"#495057\",\n",
    "    \"--bs-gray-800\": \"#343a40\",\n",
    "    \"--bs-gray-900\": \"#212529\",\n",
    "    \"--bs-hise-blue-1\": \"#003056\",\n",
    "    \"--bs-hise-blue-2\": \"#325876\",\n",
    "    \"--bs-hise-blue-3\": \"#5286b0\",\n",
    "    \"--bs-hise-blue-4\": \"#71899c\",\n",
    "    \"--bs-hise-blue-5\": \"#b4c3cf\",\n",
    "    \"--bs-hise-blue-6\": \"#d9e0e6\",\n",
    "    \"--bs-hise-teal-1\": \"#33B0C8\",\n",
    "    \"--bs-hise-teal-2\": \"#76CFE0\",\n",
    "    \"--bs-hise-teal-3\": \"#DEF2F6\",\n",
    "    \"--bs-hise-grey-1\": \"#272D3B\",\n",
    "    \"--bs-hise-grey-2\": \"#3E3E3E\",\n",
    "    \"--bs-hise-grey-3\": \"#616161\",\n",
    "    \"--bs-hise-grey-4\": \"#707070\",\n",
    "    \"--bs-hise-grey-5\": \"#ECEDEE\",\n",
    "    \"--bs-hise-grey-6\": \"#FBFBFB\",\n",
    "    \"--bs-hise-green-1\": \"#E3EADA\",\n",
    "    \"--bs-hise-green-2\": \"#A0C572\",\n",
    "    \"--bs-hise-green-3\": \"#94BC62\",\n",
    "    \"--bs-hise-green-4\": \"#4AD991\",\n",
    "    \"--bs-aifi-new-001\": \"#003057\",\n",
    "    \"--bs-aifi-new-002\": \"#5da7e5\",\n",
    "    \"--bs-aifi-new-003\": \"#74A03E\",\n",
    "    \"--bs-aifi-new-004\": \"#f4a261\",\n",
    "    \"--bs-aifi-new-005\": \"#e76f51\",\n",
    "    \"--bs-aifi-new-006\": \"#FFFFD0\",\n",
    "}\n",
    "\n",
    "\n",
    "# map a url path to a specific rule\n",
    "# @server.route(\"{}igv/<path:fname>\".format(app.config.url_base_pathname))\n",
    "@server.route(\"/igv/<path:fname>\")\n",
    "def send_file(fname):\n",
    "    return send_from_directory(data_dir, fname)\n"
   ]
  },
  {
   "cell_type": "code",
   "execution_count": 34,
   "id": "d828cce7-c847-4d27-8cca-41e373f7162d",
   "metadata": {},
   "outputs": [],
   "source": [
    "# Select celltype\n",
    "@app.callback(\n",
    "    Output(\"default-igv-container\", \"children\"),\n",
    "    Input(\"default-igv-container\", \"children\"),\n",
    "    Input(\"select_celltype\", \"value\"),\n",
    "    Input(\"select_treat\", \"value\"),\n",
    "    Input(\"select_time\", \"value\"),\n",
    "    Input(\"select_sort\", \"value\"),\n",
    "    Input(\"show-tiles\", \"value\"),\n",
    "    Input(\"genome-igv\", \"locus\"),\n",
    "    Input(\"stored-locus\", \"data\"),\n",
    ")\n",
    "def update_celltype_tracks(\n",
    "    in_container,\n",
    "    celltypes,\n",
    "    treat,\n",
    "    tp,\n",
    "    select_sort,\n",
    "    show_tiles,\n",
    "    locus,\n",
    "    stored_locus_json,\n",
    "):\n",
    "\n",
    "    if stored_locus_json:\n",
    "        stored_locus = json.loads(stored_locus_json)\n",
    "        print(f\"Stored Locus: {stored_locus}\")\n",
    "    \n",
    "    selected_track_types = show_tiles\n",
    "    print(f\"Locus: {locus}\")\n",
    "    print(f\"selected_track_types: {selected_track_types}\")\n",
    "\n",
    "    show_tiles = 'Population-specific tiles' in selected_track_types\n",
    "    show_difftiles = 'Differential tiles' in selected_track_types\n",
    "    show_motifs = 'Motif Annotations' in selected_track_types\n",
    "\n",
    "    if celltypes is None:\n",
    "        print(\"nocelltypes selected\")\n",
    "        return in_container\n",
    "    else:\n",
    "        print(\"celltypes: \", celltypes)\n",
    "        \n",
    "        # Display tracks that apply to ALL celltypes\n",
    "        celltypes = celltypes + [\"ALL\"]\n",
    "        \n",
    "        # filter and sort metadata\n",
    "        ct_meta = metadf[metadf[\"celltype\"].isin(celltypes)]\n",
    "        motif_meta = motifs_df[motifs_df[\"celltype\"].isin(celltypes)]\n",
    "        \n",
    "        tiles_meta = tiles_df[tiles_df[\"celltype\"].isin(celltypes)]\n",
    "        differentials_meta = differentials_df[\n",
    "            differentials_df[\"celltype\"].isin(celltypes)\n",
    "        ]\n",
    "\n",
    "        if show_difftiles:\n",
    "            ct_meta = pd.concat([ct_meta, differentials_meta])\n",
    "\n",
    "        if select_sort is not None:\n",
    "            ct_meta.sort_values(select_sort, inplace=True)\n",
    "            motif_meta.sort_values(select_sort, inplace=True)\n",
    "            # tiles_meta.sort_values(select_sort, inplace=True)\n",
    "\n",
    "        ct_meta.reset_index(inplace=True)\n",
    "        motif_meta.reset_index(inplace=True)\n",
    "        tiles_meta.reset_index(inplace=True)\n",
    "\n",
    "        # print(\"tiles: \", tiles, \", difftiles: \", difftiles, \", motifs: \", motifs)\n",
    "        print(\"Compiling tracks\")\n",
    "        print(\"motif_meta: \", motif_meta.shape)\n",
    "        print(\"ct_meta: \", ct_meta.shape)\n",
    "        # Compile\n",
    "        out_tracks = []\n",
    "        print(\"compiling coverage\")\n",
    "        for irow in range(ct_meta.shape[0]):\n",
    "            # print (irow)\n",
    "            print(ct_meta[\"label\"][irow])\n",
    "            if ct_meta[\"track_class\"][irow] == \"coverage\":\n",
    "                out_tracks.append(\n",
    "                    dict(\n",
    "                        type=\"wig\",\n",
    "                        name=ct_meta[\"label\"][irow],\n",
    "                        url=ct_meta[\"path\"][irow],\n",
    "                        color=ct_meta[\"colors_treat_time\"][irow],\n",
    "                        autoscaleGroup=ct_meta[\"track_class\"][irow],\n",
    "                    )\n",
    "                )\n",
    "            elif ct_meta[\"track_class\"][irow] == \"differential_tiles\":\n",
    "                out_tracks.append(\n",
    "                    dict(\n",
    "                        type=\"annotation\",\n",
    "                        name=ct_meta[\"label\"][irow],\n",
    "                        displayMode=\"squished\",\n",
    "                        url=ct_meta[\"path\"][irow],\n",
    "                        height=35,\n",
    "                        color=\"#ff5c5c\",\n",
    "                    )\n",
    "                )\n",
    "\n",
    "        if show_tiles:\n",
    "            print(\"compiling celltype tiles\")\n",
    "            for irow in range(tiles_meta.shape[0]):\n",
    "                # print(tiles_meta[\"label\"][irow])\n",
    "                print(tiles_meta[\"path\"][irow])\n",
    "                out_tracks.append(\n",
    "                    dict(\n",
    "                        type=\"annotation\",\n",
    "                        name=tiles_meta[\"label\"][irow],\n",
    "                        displayMode=\"squished\",\n",
    "                        url=tiles_meta[\"path\"][irow],\n",
    "                        height=45,\n",
    "                        color=\"#ff5c5c\",\n",
    "                    )\n",
    "                )\n",
    "\n",
    "        if show_motifs:\n",
    "            print(\"compiling celltype motifs\")\n",
    "            for irow in range(motif_meta.shape[0]):\n",
    "                out_tracks.append(\n",
    "                    dict(\n",
    "                        type=\"annotation\",\n",
    "                        name=motif_meta[\"label\"][irow],\n",
    "                        displayMode=\"expanded\",\n",
    "                        url=motif_meta[\"path\"][irow],\n",
    "                        height=140,\n",
    "                        color=\"#ff5c5c\",\n",
    "                        altColor=\"#ff8c5c\"\n",
    "                    )\n",
    "                )\n",
    "\n",
    "        print(out_tracks)\n",
    "        out_container = dashbio.Igv(\n",
    "            id=\"genome-igv\", genome=\"hg38\", locus=locus, tracks=out_tracks\n",
    "        )\n",
    "        return [out_container]"
   ]
  },
  {
   "cell_type": "code",
   "execution_count": 35,
   "id": "2b216ef9-0a74-4212-8fd5-75320b798d7f",
   "metadata": {
    "tags": []
   },
   "outputs": [
    {
     "name": "stdout",
     "output_type": "stream",
     "text": [
      "Dash is running on http://0.0.0.0:8050/proxy/8050/\n",
      "\n"
     ]
    }
   ],
   "source": [
    "app.layout = html.Div(\n",
    "    children=[\n",
    "        dcc.Store(id=\"stored-locus\"),\n",
    "        html.H1(\n",
    "            children=\"scATACseq Tracks\",\n",
    "            style={\n",
    "                \"textAlign\": \"center\",\n",
    "                \"color\": \"#FFFFFF\",\n",
    "                \"backgroundColor\": colors[\"--bs-hise-blue-1\"],\n",
    "            },\n",
    "        ),\n",
    "        html.Div(\n",
    "            id=\"dropdown_module\",\n",
    "            className=\"row\",\n",
    "            children=[\n",
    "                html.Div(\n",
    "                    className=\"col-3\",\n",
    "                    children=[\n",
    "                        html.P(\"Select celltype(s) to view sample tracks\"),\n",
    "                        dcc.Dropdown(\n",
    "                            id=\"select_celltype\",\n",
    "                            options=ct_order,\n",
    "                            value=[ct_order[0]],\n",
    "                            placeholder=\"Select a celltype from dropdown\",\n",
    "                            multi=True,\n",
    "                            clearable=True,\n",
    "                        ),\n",
    "                    ],\n",
    "                ),\n",
    "                html.Div(\n",
    "                    className=\"col-3\",\n",
    "                    children=[\n",
    "                        html.P(\"Select Tracks to Display\"),\n",
    "                        dcc.Checklist(\n",
    "                            id=\"show-tiles\",\n",
    "                            options=[\"Population-specific tiles\",\n",
    "                                     \"Differential tiles\", \"Motif Annotations\"],\n",
    "                            value=[\"Population-specific tiles\",\n",
    "                                   \"Differential tiles\", \"Motif Annotations\"],\n",
    "                            inline=False,\n",
    "                        ),\n",
    "                    ],\n",
    "                ),\n",
    "            ],\n",
    "        ),\n",
    "        html.Br(),\n",
    "        html.Div(\n",
    "            id=\"track_module\",\n",
    "            className=\"row\",\n",
    "            children=[\n",
    "                html.P(\n",
    "                    'Select a chromosome or search a specific gene or region (ex: \"IKZF1\" or \"chr7:50,250,635-50,457,906\")'\n",
    "                ),\n",
    "                dcc.Loading(\n",
    "                    id=\"default-igv-container\",\n",
    "                    type=\"circle\",\n",
    "                    children=[\n",
    "                        dashbio.Igv(\n",
    "                            id=\"genome-igv\",\n",
    "                            genome=\"hg38\",\n",
    "                            locus=\"chr6:31,801,952-31,812,376\",\n",
    "                        )\n",
    "                    ],\n",
    "                ),\n",
    "            ],\n",
    "        ),\n",
    "    ]\n",
    ")\n",
    "\n",
    "del app.config._read_only[\"requests_pathname_prefix\"]\n",
    "# app.run_server(debug=False, mode='inline')\n",
    "app.run_server(debug=True, mode='Jupyterlab', host = '0.0.0.0')\n",
    "\n",
    "# Look for diff peak differences chr6:31,801,952-31,812,376"
   ]
  }
 ],
 "metadata": {
  "kernelspec": {
   "display_name": "Python [conda env:root] *",
   "language": "python",
   "name": "conda-root-py"
  },
  "language_info": {
   "codemirror_mode": {
    "name": "ipython",
    "version": 3
   },
   "file_extension": ".py",
   "mimetype": "text/x-python",
   "name": "python",
   "nbconvert_exporter": "python",
   "pygments_lexer": "ipython3",
   "version": "3.7.12"
  },
  "toc-showcode": false
 },
 "nbformat": 4,
 "nbformat_minor": 5
}
