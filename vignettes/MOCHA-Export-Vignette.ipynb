{
 "cells": [
  {
   "cell_type": "markdown",
   "id": "bf525035-2d23-4ff6-8300-9ed13cc533a6",
   "metadata": {},
   "source": [
    "# Exporting from MOCHA for IGV Visualization\n",
    "\n",
    "In this vignette, we will start from a MOCHA object and export data to a folder `./data/` for visualization in the accompanying Dash app.\n",
    "\n",
    "1. [Imports](#Imports)\n",
    "2. [Export Sample-Specific Coverage](#Export-Sample-Specific-Coverage)\n",
    "3. [Export Open Tiles](#Export-Open-Tiles)\n",
    "4. [Export Differential Tiles](#Export-Differential-Tiles)\n",
    "5. [Annotate and Export Motifs](#Annotate-and-Export-Motifs)"
   ]
  },
  {
   "cell_type": "markdown",
   "id": "6c011f63-359e-4526-a5df-e448f8f1b104",
   "metadata": {},
   "source": [
    "## Imports\n",
    "\n",
    "Install and import MOCHA, and load your output SampleTileObject from of `MOCHA::getSampleTileMatrix`."
   ]
  },
  {
   "cell_type": "code",
   "execution_count": 1,
   "id": "78cca110-6ee4-4239-9c0d-42b976528746",
   "metadata": {},
   "outputs": [],
   "source": [
    "devtools::install_github(\"aifimmunology/MOCHA\", ref=\"exportBigWigs\")\n",
    "library(MOCHA)"
   ]
  },
  {
   "cell_type": "markdown",
   "id": "56677f5f-83bb-44e9-94c5-5210800f3489",
   "metadata": {},
   "source": [
    "Alternatively, you can load in the output from `MOCHA::callOpenTiles` and compute the SampleTileObject."
   ]
  },
  {
   "cell_type": "code",
   "execution_count": 2,
   "id": "a194613b-1b3a-4945-8f40-c839375e5a40",
   "metadata": {},
   "outputs": [],
   "source": [
    "tileResults <- readRDS(\"../data/celltype_mocha_tileresults.rds\")\n",
    "SampleTileMatrices <- MOCHA::getSampleTileMatrix(\n",
    "  tileResults, \n",
    "  cellPopulations = \"All\", \n",
    "  groupColumn = NULL, \n",
    "  threshold = 0, # union\n",
    "  numCores = 8\n",
    ")"
   ]
  },
  {
   "cell_type": "markdown",
   "id": "decd0d36-7e61-4d9f-8009-4b72d5bca0ba",
   "metadata": {
    "tags": []
   },
   "source": [
    "## Export Sample-Specific Coverage"
   ]
  },
  {
   "cell_type": "code",
   "execution_count": 3,
   "id": "02544cc7-7f7b-4d90-a615-0afc2f0bdb5d",
   "metadata": {
    "tags": []
   },
   "outputs": [],
   "source": [
    "# Ensure all these options are set, as some are non-default\n",
    "MOCHA::exportCoverage(\n",
    "    SampleTileObj = tileResults,\n",
    "    dir = \"./data/sample_specific_coverage/\",\n",
    "    cellPopulations = \"All\",\n",
    "    sampleSpecific = TRUE,\n",
    "    saveFile = TRUE,\n",
    "    numCores = 8\n",
    ")"
   ]
  },
  {
   "cell_type": "markdown",
   "id": "e080dd48-81ae-4b66-8d0c-29bae872e065",
   "metadata": {},
   "source": [
    "## Export Open Tiles"
   ]
  },
  {
   "cell_type": "code",
   "execution_count": null,
   "id": "2aa49abc-26f5-44ad-9a64-129d7f186aae",
   "metadata": {},
   "outputs": [],
   "source": [
    "MOCHA::exportOpenTiles(\n",
    "    SampleTileObject = SampleTileMatrices,\n",
    "    outDir = \"./data/tiles_samplespecific/\"\n",
    ")"
   ]
  },
  {
   "cell_type": "markdown",
   "id": "10223cc5-8fe4-4b46-aed5-c60f6e5d7411",
   "metadata": {},
   "source": [
    "## Export Differential Tiles\n",
    "\n",
    "Load a GRanges of differential tiles, or calculate differentials with `MOCHA::getDifferentialAccessibletiles`."
   ]
  },
  {
   "cell_type": "code",
   "execution_count": null,
   "id": "876154eb-fc5a-4727-82a8-ccc29acf8442",
   "metadata": {},
   "outputs": [],
   "source": [
    "DifferentialsGRList <- readRDS(\"./data/teaseq_drug-vs-dmso-diff-peaks.rds\")"
   ]
  },
  {
   "cell_type": "code",
   "execution_count": null,
   "id": "e38988e7-d881-42a7-93fe-10d47a8104fd",
   "metadata": {},
   "outputs": [],
   "source": [
    "exportDifferentialTiles(\n",
    "    SampleTileObject = SampleTileMatrices, \n",
    "    DifferentialsGRList, \n",
    "    outDir = \"./data/tiles_differential/\"\n",
    ")"
   ]
  },
  {
   "cell_type": "markdown",
   "id": "65db537a-faf0-4345-b2c1-9d497ab63845",
   "metadata": {},
   "source": [
    "## Annotate and Export Motifs\n",
    "\n",
    "Annotate our peaks with a motif set PWM. There is a selection of PWMs available in the package [chomVarMotifs](https://github.com/GreenleafLab/chromVARmotifs)."
   ]
  },
  {
   "cell_type": "code",
   "execution_count": null,
   "id": "8ea77be5-ed9d-4672-a2e5-e18c7ee12e76",
   "metadata": {},
   "outputs": [],
   "source": [
    "library(chromVARmotifs)\n",
    "data(\"human_pwms_v1\")\n",
    "\n",
    "motifsGRanges <- MOCHA::addMotifSet(\n",
    "    SampleTileObj = SampleTileMatrices, \n",
    "    motifPWMs = human_pwms_v1,\n",
    "    returnSTM = FALSE, # Set FALSE to return a GRanges\n",
    "    motifSetName = \"CISBP\"\n",
    ")"
   ]
  },
  {
   "cell_type": "markdown",
   "id": "51688f08-5131-46f3-9f7e-83180dc44de2",
   "metadata": {},
   "source": [
    "We have the ability to export motifs that are annotated within all tiles, or filter to only motifs located within open tiles for each cell population with the option `filterCellTypePeaks`."
   ]
  },
  {
   "cell_type": "code",
   "execution_count": null,
   "id": "09dfd88a-7b14-4e15-a535-d70bb9344564",
   "metadata": {},
   "outputs": [],
   "source": [
    "exportMotifs(\n",
    "    SampleTileObject = tileResults,\n",
    "    motifsGRanges = unlist(motifsGRanges),\n",
    "    motifSetName = \"CISBP\",\n",
    "    outDir = \"./data/motifs/\", \n",
    "    filterCellTypePeaks = TRUE,\n",
    "    verbose = TRUE\n",
    ")"
   ]
  }
 ],
 "metadata": {
  "kernelspec": {
   "display_name": "R",
   "language": "R",
   "name": "ir"
  },
  "language_info": {
   "codemirror_mode": "r",
   "file_extension": ".r",
   "mimetype": "text/x-r-source",
   "name": "R",
   "pygments_lexer": "r",
   "version": "4.2.2"
  }
 },
 "nbformat": 4,
 "nbformat_minor": 5
}
